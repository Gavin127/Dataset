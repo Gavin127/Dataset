{
 "cells": [
  {
   "cell_type": "code",
   "execution_count": 1,
   "id": "a5659c0d-1a76-48d1-98be-51d064487746",
   "metadata": {},
   "outputs": [],
   "source": [
    "import pandas as pd\n",
    "file_path = 'parks_final.csv'  \n",
    "df = pd.read_csv(file_path)\n",
    "df['spend_per_resident_data'] = df['spend_per_resident_data'].replace({'\\$': ''}, regex=True)\n",
    "df.to_csv('parks_final1.csv', index=False)\n",
    "//remove dollar sign"
   ]
  },
  {
   "cell_type": "code",
   "execution_count": null,
   "id": "76d5ce88-cf7e-46c7-ae00-ff2dbac566ba",
   "metadata": {},
   "outputs": [],
   "source": []
  }
 ],
 "metadata": {
  "kernelspec": {
   "display_name": "Python 3 (ipykernel)",
   "language": "python",
   "name": "python3"
  },
  "language_info": {
   "codemirror_mode": {
    "name": "ipython",
    "version": 3
   },
   "file_extension": ".py",
   "mimetype": "text/x-python",
   "name": "python",
   "nbconvert_exporter": "python",
   "pygments_lexer": "ipython3",
   "version": "3.11.4"
  }
 },
 "nbformat": 4,
 "nbformat_minor": 5
}
